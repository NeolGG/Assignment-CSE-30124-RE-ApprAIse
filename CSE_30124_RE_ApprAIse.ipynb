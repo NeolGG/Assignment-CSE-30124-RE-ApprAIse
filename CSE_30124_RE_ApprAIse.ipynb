{
  "cells": [
    {
      "cell_type": "markdown",
      "metadata": {
        "id": "nslKz_e-LT16"
      },
      "source": [
        "## Import data\n"
      ]
    },
    {
      "cell_type": "code",
      "execution_count": null,
      "metadata": {
        "id": "G5k8eUDaN68-"
      },
      "outputs": [],
      "source": [
        "import os\n",
        "import numpy as np\n",
        "import pandas as pd\n",
        "from sklearn.model_selection import train_test_split\n",
        "from sklearn.linear_model import LinearRegression\n",
        "from sklearn.metrics import mean_squared_error, r2_score\n",
        "import matplotlib.pyplot as plt\n",
        "import seaborn as sns\n",
        "from geopy.distance import great_circle"
      ]
    },
    {
      "cell_type": "code",
      "execution_count": null,
      "metadata": {
        "id": "-cLAoVzCQOPc"
      },
      "outputs": [],
      "source": [
        "if not os.path.exists('usa_housing.csv') or not os.path.exists('ny_housing.csv'):\n",
        "    # !wget \"https://drive.usercontent.google.com/download?id=1fqh567slCa7vPhHGIQ1g7szImts_71mx&export=download&authuser=0&confirm=t&uuid=ba0d436c-a9f8-4c30-9571-54437683395b&at=APZUnTWagNdHJ7SK1BxfNQpSmOpr:1700065030553\" -O 'usa_housing.csv'\n",
        "    !wget \"https://drive.usercontent.google.com/download?id=1nUBrPk8KXWKNMpNaefK4zb5M-gTERsnM&export=download&authuser=0&confirm=t&uuid=3d809786-7414-4548-af2b-c93a9a24f96c&at=APZUnTXoshoXpG5egZCmjGFej0qo:1701765700250\" -O 'ny_housing.csv'\n",
        "\n",
        "# df_usa = pd.read_csv('usa_housing.csv')\n",
        "df_ny_og = pd.read_csv('ny_housing.csv')"
      ]
    },
    {
      "cell_type": "code",
      "execution_count": null,
      "metadata": {
        "id": "-Uoqn0StJXKT"
      },
      "outputs": [],
      "source": [
        "df_ny_filtered = df_ny_og.copy()"
      ]
    },
    {
      "cell_type": "markdown",
      "metadata": {
        "id": "nY2ObHrORlmK"
      },
      "source": [
        "## Clean up lines, columns, and convert\n",
        "\n",
        "\n",
        "\n"
      ]
    },
    {
      "cell_type": "code",
      "execution_count": null,
      "metadata": {
        "id": "DGaT4nJnUOn3"
      },
      "outputs": [],
      "source": [
        "columns_to_remove = ['property_url','property_id','address','apartment','street_name','postcode','broker_id','year_build','total_num_units','agent_name','agent_phone','agency_name','RunDate','is_owned_by_zillow','listing_age','property_type','property_status','state','city','price_per_unit']\n",
        "\n",
        "df_ny_filtered.drop(columns_to_remove,inplace=True,axis=1) #drops the useless columns\n",
        "\n",
        "df_ny_filtered.dropna(inplace=True) #remove NaN vlaues\n",
        "\n",
        "df_ny_filtered = df_ny_filtered.reset_index(drop=True) #fixes the indexes"
      ]
    },
    {
      "cell_type": "code",
      "execution_count": null,
      "metadata": {
        "id": "osm-FUdGKCA0"
      },
      "outputs": [],
      "source": [
        "print(df_ny_filtered.info())\n",
        "\n",
        "#conversion of acres and sqft\n",
        "for i in range(len(df_ny_filtered['land_space_unit'])):\n",
        "  if df_ny_filtered['land_space_unit'][i] == \"acres\":\n",
        "    df_ny_filtered['land_space'][i]*= 43560\n",
        "\n",
        "df_ny_filtered.drop(['land_space_unit'],inplace=True,axis=1)\n",
        "df_ny_filtered = df_ny_filtered.reset_index(drop=True) #fixes the indexes\n",
        "\n",
        "print(df_ny_filtered.info())\n",
        "\n",
        "# lat and long conversion\n",
        "\n",
        "# convert lat and lon to distance from nyc\n",
        "nyc_center = (40.7831, -73.9712)\n",
        "\n",
        "def calculate_distance(row):\n",
        "    property_location = (row['latitude'], row['longitude'])\n",
        "    return great_circle(property_location, nyc_center).miles\n",
        "\n",
        "df_ny_filtered['distance_to_nyc'] = df_ny_filtered.apply(calculate_distance, axis=1)\n",
        "\n",
        "columns_to_remove = ['latitude','longitude']\n",
        "\n",
        "df_ny_filtered.drop(columns_to_remove,inplace=True,axis=1) #drops the useless columns\n",
        "df_ny_filtered = df_ny_filtered.reset_index(drop=True) #fixes the indexes"
      ]
    },
    {
      "cell_type": "code",
      "execution_count": null,
      "metadata": {
        "id": "ET_C4cliiKUD"
      },
      "outputs": [],
      "source": [
        "df_ny = df_ny_filtered.copy()"
      ]
    },
    {
      "cell_type": "markdown",
      "metadata": {
        "id": "rPn1s87QUfYI"
      },
      "source": [
        "## Visualize Data"
      ]
    },
    {
      "cell_type": "code",
      "execution_count": null,
      "metadata": {
        "id": "XknnXVqgRnns"
      },
      "outputs": [],
      "source": [
        "# Graph features\n",
        "\n",
        "features = ['bedroom_number', 'bathroom_number', 'living_space', 'land_space','distance_to_nyc']\n",
        "sns.set_style('whitegrid')\n",
        "\n",
        "for feature in features:\n",
        "    plt.figure(figsize=(10, 6))\n",
        "    sns.scatterplot(data=df_ny, x=feature, y='price')\n",
        "    plt.title(f'Price vs {feature}')\n",
        "    plt.xlabel(feature)\n",
        "    plt.ylabel('Price')\n",
        "    plt.show()"
      ]
    },
    {
      "cell_type": "markdown",
      "metadata": {
        "id": "9GpCBtcycXjR"
      },
      "source": [
        "## IQR function"
      ]
    },
    {
      "cell_type": "code",
      "execution_count": null,
      "metadata": {
        "id": "Lg5U0FFccWyO"
      },
      "outputs": [],
      "source": [
        "def remove_outliers(df, feature, lq, uq, multiplier=1.5):\n",
        "    Q1 = df[feature].quantile(lq)\n",
        "    Q3 = df[feature].quantile(uq)\n",
        "    IQR = Q3 - Q1\n",
        "    lower_bound = Q1 - multiplier * IQR\n",
        "    upper_bound = Q3 + multiplier * IQR\n",
        "    return df[(df[feature] >= lower_bound) & (df[feature] <= upper_bound)]\n",
        "\n",
        "def train_and_evaluate(df):\n",
        "    X = df.drop(\"price\", axis=1)\n",
        "    y = df[\"price\"]\n",
        "    X_train, X_test, y_train, y_test = train_test_split(X, y, test_size=0.2, random_state=42)\n",
        "    model = LinearRegression()\n",
        "    model.fit(X_train, y_train)\n",
        "    y_pred = model.predict(X_test)\n",
        "    mse = mean_squared_error(y_test, y_pred)\n",
        "    r2 = r2_score(y_test, y_pred)\n",
        "    return mse, r2\n",
        "\n",
        "def find_best_quantiles(df, features):\n",
        "    best_mse = float('inf')\n",
        "    best_r2 = float('-inf')\n",
        "    best_lq = best_uq = 0\n",
        "\n",
        "    for lq in np.arange(0.05, 0.5, 0.05):\n",
        "        for uq in np.arange(0.5, 0.95, 0.05):\n",
        "                temp_df = df.copy()\n",
        "                for feature in features:\n",
        "                    temp_df = remove_outliers(temp_df, feature, lq, uq)\n",
        "                mse, r2 = train_and_evaluate(temp_df)\n",
        "                if mse < best_mse or r2 > best_r2:\n",
        "                    best_mse, best_r2 = mse, r2\n",
        "                    best_lq, best_uq = lq, uq\n",
        "\n",
        "\n",
        "    return best_mse, best_r2, best_lq, best_uq\n",
        "\n",
        "\n",
        "best_mse, best_r2, best_lq, best_uq = find_best_quantiles(df_ny, features)\n",
        "for_mse = \"{:,.2f}\".format(best_mse)\n",
        "print(f\"Best MSE: {for_mse}, Best R2: {best_r2}\")\n",
        "print(f\"Best Lower Quantile: {best_lq}, Best Upper Quantile: {best_uq}\")\n"
      ]
    },
    {
      "cell_type": "markdown",
      "metadata": {
        "id": "EVYTMKIIUVes"
      },
      "source": [
        "## Clean Data - Delete outliers using IQR"
      ]
    },
    {
      "cell_type": "code",
      "execution_count": null,
      "metadata": {
        "id": "tsFyt4ygTQ7E"
      },
      "outputs": [],
      "source": [
        "features = ['bedroom_number', 'bathroom_number', 'living_space', 'land_space','distance_to_nyc']\n",
        "\n",
        "valid_indices = set(df_ny.index)\n",
        "\n",
        "for feature in features:\n",
        "    Q1 = df_ny[feature].quantile(best_lq)\n",
        "    Q3 = df_ny[feature].quantile(best_uq)\n",
        "    IQR = Q3 - Q1\n",
        "    lower_bound = Q1 - 1.5 * IQR\n",
        "    upper_bound = Q3 + 1.5 * IQR\n",
        "\n",
        "    feature_valid_indices = df_ny[(df_ny[feature] >= lower_bound) & (df_ny[feature] <= upper_bound)].index\n",
        "    valid_indices = valid_indices.intersection(feature_valid_indices)\n",
        "\n",
        "temp = df_ny.loc[list(valid_indices)]\n",
        "\n",
        "sns.set_style('whitegrid')\n",
        "\n",
        "for feature in features:\n",
        "    plt.figure(figsize=(10, 6))\n",
        "    sns.scatterplot(data=temp, x=feature, y='price')\n",
        "    plt.title(f'Price vs {feature}')\n",
        "    plt.xlabel(feature)\n",
        "    plt.ylabel('Price')\n",
        "    plt.show()\n"
      ]
    },
    {
      "cell_type": "code",
      "execution_count": null,
      "metadata": {
        "id": "IyCbyOZ_hBUe"
      },
      "outputs": [],
      "source": [
        "df_ny = temp"
      ]
    },
    {
      "cell_type": "markdown",
      "metadata": {
        "id": "hOzsP-PIeTIM"
      },
      "source": [
        "## Housing Model"
      ]
    },
    {
      "cell_type": "code",
      "execution_count": null,
      "metadata": {
        "id": "lhOMJJv2ebKw"
      },
      "outputs": [],
      "source": [
        "def makeModel(dataframe):\n",
        "  X = dataframe.drop(\"price\", axis=1)\n",
        "  y = dataframe[\"price\"]\n",
        "\n",
        "  X_train, X_test, y_train, y_test = train_test_split(X, y, test_size=0.2, random_state=42)\n",
        "\n",
        "  model = LinearRegression()\n",
        "  model.fit(X_train, y_train)\n",
        "\n",
        "  y_pred = model.predict(X_test)\n",
        "\n",
        "  mse = mean_squared_error(y_test, y_pred)\n",
        "  r2 = r2_score(y_test, y_pred)\n",
        "  formatted_mse = \"{:,.2f}\".format(mse)\n",
        "\n",
        "  print(f\"Mean Squared Error: {formatted_mse}\")\n",
        "  print(f\"R^2 Score: {r2}\")\n",
        "\n",
        "  return model"
      ]
    },
    {
      "cell_type": "code",
      "execution_count": null,
      "metadata": {
        "id": "zuGaK0gzylKr"
      },
      "outputs": [],
      "source": [
        "mode = makeModel(df_ny)"
      ]
    },
    {
      "cell_type": "markdown",
      "metadata": {
        "id": "GjZcmjR_e9O_"
      },
      "source": [
        "## City Conversion"
      ]
    },
    {
      "cell_type": "code",
      "execution_count": null,
      "metadata": {
        "id": "tQ9Xpd92JKJU"
      },
      "outputs": [],
      "source": [
        "from geopy.geocoders import Nominatim\n",
        "\n",
        "geolocator = Nominatim(user_agent=\"appriase\")\n",
        "\n",
        "def geocode_city(city_name):\n",
        "    try:\n",
        "        location = geolocator.geocode(city_name + ', New York')\n",
        "        return location.latitude, location.longitude\n",
        "    except Exception as e:\n",
        "        print(\"Invalid city name try again\")"
      ]
    },
    {
      "cell_type": "markdown",
      "metadata": {
        "id": "3URXnUYK34Te"
      },
      "source": [
        "## User Input"
      ]
    },
    {
      "cell_type": "code",
      "execution_count": null,
      "metadata": {
        "id": "vktNeQoTfEYZ"
      },
      "outputs": [],
      "source": [
        "bed   =   float(input(\"Enter how many beds: \"))\n",
        "bath  =   float(input(\"Enter how many bathrooms: \"))\n",
        "land =   float(input(\"Enter how many sqft the land is: \"))\n",
        "house  =   float(input(\"Enter how the size of the house in square feet: \"))\n",
        "city = input(\"Enter the city in the State of New York: \")\n",
        "\n",
        "lat,lon = geocode_city(city)\n",
        "distance =  great_circle((lat,lon), nyc_center).miles\n",
        "\n",
        "data = {\n",
        "    'bedroom_number': [bed],\n",
        "    'bathroom_number': [bath],\n",
        "    'living_space':[house],\n",
        "    'land_space': [land],\n",
        "    'distance_to_nyc': [distance]\n",
        "}\n",
        "\n",
        "input_df = pd.DataFrame(data)\n",
        "\n",
        "prediction = list(model.predict(input_df))\n",
        "\n",
        "# Print the predictions\n",
        "print(\"Predicted Price:\")\n",
        "print(f\"${prediction[0]:.2f}\")"
      ]
    }
  ],
  "metadata": {
    "colab": {
      "private_outputs": true,
      "provenance": []
    },
    "kernelspec": {
      "display_name": "Python 3",
      "name": "python3"
    },
    "language_info": {
      "name": "python"
    }
  },
  "nbformat": 4,
  "nbformat_minor": 0
}
